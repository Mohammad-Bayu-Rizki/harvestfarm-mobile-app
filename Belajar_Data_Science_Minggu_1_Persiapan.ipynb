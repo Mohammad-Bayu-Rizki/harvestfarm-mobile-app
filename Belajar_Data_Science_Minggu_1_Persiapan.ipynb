{
  "nbformat": 4,
  "nbformat_minor": 0,
  "metadata": {
    "colab": {
      "provenance": [],
      "authorship_tag": "ABX9TyNUlI2W4Gt32K1gGgj7vJTC",
      "include_colab_link": true
    },
    "kernelspec": {
      "name": "python3",
      "display_name": "Python 3"
    },
    "language_info": {
      "name": "python"
    }
  },
  "cells": [
    {
      "cell_type": "markdown",
      "metadata": {
        "id": "view-in-github",
        "colab_type": "text"
      },
      "source": [
        "<a href=\"https://colab.research.google.com/github/Mohammad-Bayu-Rizki/harvestfarm-mobile-app/blob/main/Belajar_Data_Science_Minggu_1_Persiapan.ipynb\" target=\"_parent\"><img src=\"https://colab.research.google.com/assets/colab-badge.svg\" alt=\"Open In Colab\"/></a>"
      ]
    },
    {
      "cell_type": "code",
      "execution_count": 2,
      "metadata": {
        "colab": {
          "base_uri": "https://localhost:8080/"
        },
        "id": "rX-qOFiU1OqC",
        "outputId": "809f2a41-544e-4d72-8695-ddffd9cf657c"
      },
      "outputs": [
        {
          "output_type": "stream",
          "name": "stdout",
          "text": [
            "Halo, nama saya Bayu\n",
            "Saya berasal dari kota Mojokerto\n",
            "Lima tahun lagi usia saya 26 tahun.\n"
          ]
        }
      ],
      "source": [
        "nama_saya = 'Bayu'\n",
        "kota_asal = 'Mojokerto'\n",
        "usia = 21\n",
        "\n",
        "print(f\"Halo, nama saya {nama_saya}\")\n",
        "print(f\"Saya berasal dari kota {kota_asal}\")\n",
        "\n",
        "usia_lima_tahun_lagi = usia + 5\n",
        "print(f\"Lima tahun lagi usia saya {usia_lima_tahun_lagi} tahun.\")"
      ]
    },
    {
      "cell_type": "markdown",
      "source": [
        "**Struktur Data: Daftar Belanja vs Buku Kontak**"
      ],
      "metadata": {
        "id": "qR64hoJV4NEh"
      }
    },
    {
      "cell_type": "code",
      "source": [
        "#sebuah list berisi nama nama buah\n",
        "daftar_belanja = ['apel','jeruk','pisang','mangga']\n",
        "print(f\"Item pertama dalam keranjang adalah {daftar_belanja[0]}\")"
      ],
      "metadata": {
        "colab": {
          "base_uri": "https://localhost:8080/"
        },
        "id": "56c2t1Ms4X37",
        "outputId": "85aafb8c-ebee-4df0-c0ba-c55bc1fb5d9c"
      },
      "execution_count": 5,
      "outputs": [
        {
          "output_type": "stream",
          "name": "stdout",
          "text": [
            "Item pertama dalam keranjang adalah apel\n"
          ]
        }
      ]
    },
    {
      "cell_type": "code",
      "source": [
        "#sebuah dictionary berisi data siswa\n",
        "data_mahasiswa = {\n",
        "    'nama':'Citra',\n",
        "    'usia': 23,\n",
        "    'jurusan': 'Informatika'\n",
        "}\n",
        "\n",
        "print(f\"{data_mahasiswa ['nama']} adalah seorang mahasiswa jurusan {data_mahasiswa['jurusan']}.\")"
      ],
      "metadata": {
        "colab": {
          "base_uri": "https://localhost:8080/"
        },
        "id": "flXLe0iU4-9_",
        "outputId": "b4293dea-76bb-4010-d0e7-c7d96caeb46b"
      },
      "execution_count": 6,
      "outputs": [
        {
          "output_type": "stream",
          "name": "stdout",
          "text": [
            "Citra adalah seorang mahasiswa jurusan Informatika.\n"
          ]
        }
      ]
    },
    {
      "cell_type": "code",
      "source": [
        "#sebuah if else dalam keadaan di lampu merah\n",
        "lampu = input(str())\n",
        "\n",
        "if lampu == 'merah':\n",
        "  print(f\"Anda harus berhenti\")\n",
        "elif lampu == 'kuning':\n",
        "  print(f\"Anda Harus hati-hati\")\n",
        "else:\n",
        "  print(f\"Silahkan jalan.\")"
      ],
      "metadata": {
        "colab": {
          "base_uri": "https://localhost:8080/"
        },
        "id": "zpCJvtfM5tZf",
        "outputId": "cd1f5e72-c4c0-4354-90a2-aeee118f5961"
      },
      "execution_count": 11,
      "outputs": [
        {
          "output_type": "stream",
          "name": "stdout",
          "text": [
            "kuning\n",
            "Anda Harus hati-hati\n"
          ]
        }
      ]
    },
    {
      "cell_type": "code",
      "source": [
        "# for loop\n",
        "\n",
        "for buah in daftar_belanja:\n",
        "  print(f\"Saya akan membeli {buah}.\")"
      ],
      "metadata": {
        "colab": {
          "base_uri": "https://localhost:8080/"
        },
        "id": "R3gunDD47Bxm",
        "outputId": "4b85bb5e-28c2-4451-b20c-9a26437c3f6c"
      },
      "execution_count": 12,
      "outputs": [
        {
          "output_type": "stream",
          "name": "stdout",
          "text": [
            "Saya akan membeli apel.\n",
            "Saya akan membeli jeruk.\n",
            "Saya akan membeli pisang.\n",
            "Saya akan membeli mangga.\n"
          ]
        }
      ]
    },
    {
      "cell_type": "code",
      "source": [
        "daftar_karyawan = [\n",
        "    {\"nama\":\"Andi\", \"Departemen\":\"Marketing\", \"Gaji\": 3000},\n",
        "    {\"nama\":\"Beni\", \"Departemen\":\"IT\", \"Gaji\": 5000},\n",
        "    {\"nama\":\"Cindy\", \"Departemen\":\"IT\", \"Gaji\": 5500},\n",
        "    {\"nama\":\"Doni\", \"Departemen\":\"HR\", \"Gaji\": 2500},\n",
        "    {\"nama\":\"Elsa\", \"Departemen\":\"Marketing\", \"Gaji\": 3200}\n",
        "]\n",
        "\n",
        "print(f\"---Laporan Bonus Karyawan---\")\n",
        "\n",
        "for karyawan in daftar_karyawan:\n",
        "  if karyawan[\"Departemen\"] == \"Marketing\":\n",
        "    bonus = 0.25\n",
        "  elif karyawan[\"Departemen\"] == \"IT\":\n",
        "    bonus = 0.08\n",
        "  else:\n",
        "    bonus = 1.50\n",
        "\n",
        "  total_gaji = karyawan[\"Gaji\"] + (karyawan[\"Gaji\"]*bonus)\n",
        "  print(f\"Nama: {karyawan['nama']}, Departemen: {karyawan['Departemen']}, gaji + bonus: ${int(total_gaji)}\")\n"
      ],
      "metadata": {
        "colab": {
          "base_uri": "https://localhost:8080/"
        },
        "id": "Gzszg_QV7ur3",
        "outputId": "90344cb5-6afd-4e7e-819d-492ff80dc249"
      },
      "execution_count": 18,
      "outputs": [
        {
          "output_type": "stream",
          "name": "stdout",
          "text": [
            "---Laporan Bonus Karyawan---\n",
            "Nama: Andi, Departemen: Marketing, gaji + bonus: $3750\n",
            "Nama: Beni, Departemen: IT, gaji + bonus: $5400\n",
            "Nama: Cindy, Departemen: IT, gaji + bonus: $5940\n",
            "Nama: Doni, Departemen: HR, gaji + bonus: $6250\n",
            "Nama: Elsa, Departemen: Marketing, gaji + bonus: $4000\n"
          ]
        }
      ]
    }
  ]
}